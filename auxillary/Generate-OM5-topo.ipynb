{
 "cells": [
  {
   "cell_type": "code",
   "execution_count": null,
   "id": "32a91d0d-2fca-48ce-b6dc-ff7fb4c3aa3a",
   "metadata": {},
   "outputs": [],
   "source": [
    "import GMesh\n",
    "import math\n",
    "import netCDF4\n",
    "import numpy as np\n",
    "import matplotlib.pyplot as plt"
   ]
  },
  {
   "cell_type": "code",
   "execution_count": null,
   "id": "7176622d-1507-4a96-834e-4770f0c228fb",
   "metadata": {},
   "outputs": [],
   "source": [
    "%%time\n",
    "# Read topo data\n",
    "# Example: cp -n /archive/gold/datasets/topography/GEBCO_2023/GEBCO_2023.nc source_topog.nc\n",
    "with netCDF4.Dataset('source_topog.nc') as nc:\n",
    "    topo_lon = nc.variables['lon'][:].filled(0.)\n",
    "    topo_lat = nc.variables['lat'][:].filled(0.)\n",
    "    topo_depth = nc.variables['elevation'][:,:].filled(0.)"
   ]
  },
  {
   "cell_type": "code",
   "execution_count": null,
   "id": "8e26d809-371c-434a-83c7-e876ba091007",
   "metadata": {},
   "outputs": [],
   "source": [
    "src_topo_global = GMesh.UniformEDS( topo_lon, topo_lat, topo_depth )\n",
    "src_topo_global"
   ]
  },
  {
   "cell_type": "code",
   "execution_count": null,
   "id": "764aeb64-5eb0-4506-9a6c-9b1406a33a73",
   "metadata": {},
   "outputs": [],
   "source": [
    "# Read target mesh\n",
    "# Example: cp -n /archive/bgr/Datasets/OM5/topo_v4/OM5_025/ocean_hgrid.nc ocean_hgrid.nc\n",
    "with netCDF4.Dataset('ocean_hgrid.nc') as nc:\n",
    "    fullG = GMesh.GMesh( lon=nc.variables['x'][::2,::2], lat=nc.variables['y'][::2,::2] )\n",
    "fullG"
   ]
  },
  {
   "cell_type": "code",
   "execution_count": null,
   "id": "ea19e15a-455a-4ffd-89a6-ed69fabdfc32",
   "metadata": {},
   "outputs": [],
   "source": [
    "GMesh.pfactor( fullG.ni ), GMesh.pfactor( fullG.nj )"
   ]
  },
  {
   "cell_type": "code",
   "execution_count": null,
   "id": "674e25c1-28fa-4818-9349-0efb667ad892",
   "metadata": {},
   "outputs": [],
   "source": [
    "def convol( levels, h, f, verbose=False ):\n",
    "    \"\"\"Coarsens the product of h*f across all levels\"\"\"\n",
    "    levels[-1].height = ( h * f ).reshape(levels[-1].nj,levels[-1].ni)\n",
    "    for k in range( len(levels) - 1, 0, -1 ):\n",
    "        if verbose: print('Coarsening {} -> {}'.format(k,k-1))\n",
    "        levels[k].coarsenby2( levels[k-1] )\n",
    "    return levels[0].height"
   ]
  },
  {
   "cell_type": "code",
   "execution_count": null,
   "id": "e0e1216c-4b47-412c-b286-b581a7f38be7",
   "metadata": {},
   "outputs": [],
   "source": [
    "def rough( levels, h, h2min=1.e-7 ):\n",
    "    \"\"\"Calculates both mean of H, and variance of H relative to a plane\"\"\"\n",
    "    # Construct weights for moment calculations\n",
    "    nx = 2**( len(levels) - 1 )\n",
    "    x = ( np.arange(nx) - ( nx - 1 ) /2 ) * np.sqrt( 12 / ( nx**2 - 1 ) ) # This formula satisfies <x>=0 and <x^2>=1\n",
    "    X, Y = np.meshgrid( x, x )\n",
    "    X, Y = X.reshape(1,nx,1,nx), Y.reshape(1,nx,1,nx)\n",
    "    h = h.reshape(levels[0].nj,nx,levels[0].ni,nx)\n",
    "    # Now calculate moments\n",
    "    H2 = convol( levels, h, h ) # mean of h^2\n",
    "    HX = convol( levels, h, X ) # mean of h * x\n",
    "    HY = convol( levels, h, Y ) # mean of h * y\n",
    "    H = convol( levels, h, np.ones((1,nx,1,nx)) ) # mean of h = mean of h * 1\n",
    "    # The variance of deviations from the plane = <h^2> - <h>^2 - <h*x>^2 - <h*y>^2 given <x>=<y>=0 and <x^2>=<y^2>=1\n",
    "    return H, H2 - H**2 - HX**2 - HY**2 + h2min"
   ]
  },
  {
   "cell_type": "code",
   "execution_count": null,
   "id": "e8c96860-54a0-4a9b-bc44-7218b08449d6",
   "metadata": {},
   "outputs": [],
   "source": [
    "def main(NtileI, NtileJ, max_refinement, write=True, plot=True, filestr=\"new_topo_OM5_grid\"):\n",
    "    \"\"\"Main Loop\"\"\"\n",
    "    \n",
    "    di, dj = fullG.ni // NtileI, fullG.nj // NtileJ\n",
    "    assert di*NtileI == fullG.ni\n",
    "    assert dj*NtileJ == fullG.nj\n",
    "    print('window size dj,di =',dj,di,'full model nj,ni=',fullG.nj, fullG.ni)\n",
    "    Hcnt = np.zeros((fullG.nj, fullG.ni)) # Diagnostic: counting which cells we are working on\n",
    "    Htarg, H2targ = np.zeros((fullG.nj, fullG.ni)), np.zeros((fullG.nj, fullG.ni))\n",
    "    gtic = GMesh.GMesh._toc(None,\"\")\n",
    "    for j in range( NtileJ ): # 23 / 9\n",
    "        csj, sj = slice( j*dj, (j+1)*dj ), slice( j*dj, (j+1)*dj+1 )\n",
    "        for i in range( NtileI ): # 0 / 6\n",
    "            csi, si = slice( i*di, (i+1)*di ), slice( i*di, (i+1)*di+1 ) # Slices of target grid\n",
    "            Hcnt[csj,csi] = Hcnt[csj,csi] + 1 # Diagnostic: counting which cells we are working on\n",
    "            G = GMesh.GMesh( lon=fullG.lon[sj,si], lat=fullG.lat[sj,si] )\n",
    "            print('J,I={},{} {:.1f}%, {}\\n   window lon={}:{}, lat={}:{}\\n   jslice={}, islice={}'.format( \\\n",
    "                j, i, 100*(j*NtileI+i)/(NtileI*NtileJ), G, G.lon.min(), G.lon.max(), G.lat.min(), G.lat.max(), sj, si ))\n",
    "            # This recursively refines the mesh until some criteria is met ...\n",
    "            levels = G.refine_loop( src_topo_global, resolution_limit=False, fixed_refine_level=max_refinement, timers=False )\n",
    "            # Use nearest neighbor topography to populate the finest grid\n",
    "            levels[-1].project_source_data_onto_target_mesh( src_topo_global )\n",
    "            # Now recursively coarsen\n",
    "            h, h2 = rough( levels, levels[-1].height )\n",
    "            # Store window in final array\n",
    "            Htarg[csj,csi] = h\n",
    "            H2targ[csj,csi] = h2\n",
    "    GMesh.GMesh._toc(gtic,\"Whole workflow\")\n",
    "    print( Hcnt.min(), Hcnt.max(), '<-- should both be 1 for full model' )\n",
    "\n",
    "    if write is True:\n",
    "        outfile = f\"{filestr}_r{max_refinement}_{NtileI}x{NtileJ}.nc\"\n",
    "        with netCDF4.Dataset(outfile,'w','clobber') as nc:\n",
    "            nx = nc.createDimension('nx', Htarg.shape[1])\n",
    "            ny = nc.createDimension('ny', Htarg.shape[0])\n",
    "            ntiles = nc.createDimension('ntiles', 1)\n",
    "            z = nc.createVariable('depth', float, ('ny','nx') )\n",
    "            z2 = nc.createVariable('h2', float, ('ny','nx') )\n",
    "            z[:,:] = -Htarg[:,:]\n",
    "            z2[:,:] = H2targ[:,:]\n",
    "        print(f\"** wrote {outfile} **\")\n",
    "\n",
    "    if plot is True:\n",
    "        plt.pcolormesh( fullG.lon, fullG.lat, Htarg ); plt.colorbar();"
   ]
  },
  {
   "cell_type": "code",
   "execution_count": null,
   "id": "1c34103b-7ff2-41b2-85a0-c31fbdf544c4",
   "metadata": {},
   "outputs": [],
   "source": [
    "%%time\n",
    "# Test of three refinements - useful for reproducibility\n",
    "# order of arguments: NtileI, NtileJ, max_refinement\n",
    "main(1, 9, 3)"
   ]
  },
  {
   "cell_type": "code",
   "execution_count": null,
   "id": "8c3a7db6-8ea0-40f7-9eeb-41e0b39862b6",
   "metadata": {},
   "outputs": [],
   "source": [
    "%%time\n",
    "# n=7 refinements\n",
    "# order of arguments: NtileI, NtileJ, max_refinement\n",
    "main(3*2, 43*3*3, 7)"
   ]
  },
  {
   "cell_type": "code",
   "execution_count": null,
   "id": "6eec712f-0e41-4528-9120-7e5f2b3915a2",
   "metadata": {},
   "outputs": [],
   "source": [
    "%%time\n",
    "# n=8 refinements\n",
    "# order of arguments: NtileI, NtileJ, max_refinement\n",
    "main(3*2*2*2, 43*3*3, 8)"
   ]
  },
  {
   "cell_type": "code",
   "execution_count": null,
   "id": "3361c784-a579-4d14-b163-fda2e6a36e92",
   "metadata": {},
   "outputs": [],
   "source": [
    "# Other refinement options:\n",
    "# NtileI, NtileJ, max_refinement = 1, 9, 3 \n",
    "# NtileI, NtileJ, max_refinement = 3, 43*3*3, 0\n",
    "# NtileI, NtileJ, max_refinement = 3, 43, 5\n",
    "# NtileI, NtileJ, max_refinement = 3, 43*3, 6\n",
    "# NtileI, NtileJ, max_refinement = 3*2, 43*3*3, 7\n",
    "# NtileI, NtileJ, max_refinement = 3*2*2*2, 43*3*3, 8"
   ]
  }
 ],
 "metadata": {
  "kernelspec": {
   "display_name": "Python 3 (ipykernel)",
   "language": "python",
   "name": "python3"
  },
  "language_info": {
   "codemirror_mode": {
    "name": "ipython",
    "version": 3
   },
   "file_extension": ".py",
   "mimetype": "text/x-python",
   "name": "python",
   "nbconvert_exporter": "python",
   "pygments_lexer": "ipython3",
   "version": "3.11.7"
  }
 },
 "nbformat": 4,
 "nbformat_minor": 5
}
